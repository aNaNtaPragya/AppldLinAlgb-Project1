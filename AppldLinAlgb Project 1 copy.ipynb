{
 "cells": [
  {
   "cell_type": "markdown",
   "metadata": {},
   "source": [
    "### Math 425 Fall 2025 Project 1   due: 5PM on Fri October 24"
   ]
  },
  {
   "cell_type": "markdown",
   "metadata": {},
   "source": [
    "### PragyaJ"
   ]
  },
  {
   "cell_type": "markdown",
   "metadata": {},
   "source": [
    "### Project Directions\n",
    "\n",
    "- Include a report on every group member’s contribution.\n",
    "- Submit the group’s well commented code used for the project with instructions on how to compile and run.\n",
    "- Make a 15 to 20 minute video presentation of your results."
   ]
  },
  {
   "cell_type": "markdown",
   "metadata": {},
   "source": [
    "~~**Problem 1**~~\n",
    "- [x] a\n",
    "- [x] b\n",
    "- [x] c\n",
    "\n",
    "~~**Prob 2**~~\n",
    "- [x] a\n",
    "- [x] b\n",
    "- [x] c\n",
    "- ~~[ ] d~~\n",
    "- ~~[ ] e~~\n",
    "\n",
    "**Q3**\n",
    "- [x] k-means -> done BUT NEED TO UPDATE DATASET song_list\n",
    "\n",
    "? how to fill out the song list according to roster number ?"
   ]
  },
  {
   "cell_type": "markdown",
   "metadata": {},
   "source": [
    "### Details:\n",
    "#### (1) Wisconsin Diagnostic Breast Cancer (WDBC) datase: \n",
    "https://archive.ics.uci.edu/ml/datasets/Breast+Cancer+Wisconsin+(Diagnostic)\n",
    "\n",
    "For each patient, you are given a vector a giving features computed from digitized images of a fine needle aspirate (FNA) of a breast mass for that patient. The features describe characteristics of the cell nuclei present in the image. The goal is to decide whether the cells are malignant or benign.\n",
    "\n",
    "Here is a brief description of the way the features were computed. Ten real-valued quantities are computed for each cell nucleus:\n",
    "- radius ( mean of distances from center to points on the perimeter)\n",
    "- texture (standard deviation of gray-scale values)\n",
    "- perimeter\n",
    "- area\n",
    "- smoothness (local variation in radius lengths)\n",
    "- compactness (perimeter^2 / area - 1.0)\n",
    "- concavity (severity of concave portions of the contour)\n",
    "- concave points (number of concave portions of the contour)\n",
    "- symmetry\n",
    "- fractal dimension (“coastline approximation” - 1)\n",
    "\n",
    "The mean, standard error (stderr), and a measure of the largest (worst) (mean of the largest values) of each of the features were computed for each image. Each specimen is represented by a vector a with thirty entries. \n",
    "The domain D consists of thirty strings identifying these features, e.g. \"radius (mean)\", \"radius (stderr)\", \"radius (worst)\", \"area (mean)\", and so on. Four files are provided containing data:\n",
    "- **train.txt**: data for 300 patients\n",
    "- **train values.txt**: Indicator for malignant speciment (+1) or benign specimen (-1)\n",
    "- **validate.txt**: data for 260 points\n",
    "- **validate values.txt**: Indicator for malignant specimen (+1) or benign specimen (-1)"
   ]
  },
  {
   "cell_type": "markdown",
   "metadata": {},
   "source": [
    "# Problem 1"
   ]
  },
  {
   "cell_type": "markdown",
   "metadata": {},
   "source": [
    "**(a) Apply k-means clustering with k = 2 to the training data. Then use the validation data to assess the accuracy of your clustering. You will need to come up with a scheme to determine the accuracy (i.e. a scheme to determine whether a patient in the validation set has a malignant tumor or a benign tumor based on the clustering).**"
   ]
  },
  {
   "cell_type": "code",
   "execution_count": 1,
   "metadata": {},
   "outputs": [
    {
     "name": "stdout",
     "output_type": "stream",
     "text": [
      "Training data shape: (300, 30)\n",
      "Validation data shape: (260, 30)\n"
     ]
    }
   ],
   "source": [
    "import numpy as np\n",
    "from sklearn.cluster import KMeans\n",
    "from sklearn.metrics import accuracy_score\n",
    "from sklearn.preprocessing import StandardScaler\n",
    "\n",
    "from collections import Counter # this is for mapping clusters to majority labels\n",
    "import os # for file paths\n",
    "\n",
    "# all four files stored here\n",
    "data_path = \"/Users/pragyajha/Downloads/project1_data\"\n",
    "\n",
    "# Load all data files\n",
    "X_train = np.loadtxt(os.path.join(data_path, \"train.txt\"), delimiter=\",\")         # training featr\n",
    "y_train = np.loadtxt(os.path.join(data_path, \"train_values.txt\"), dtype=int)      # training label\n",
    "X_val = np.loadtxt(os.path.join(data_path, \"validate.txt\"), delimiter=\",\")        # vali featr\n",
    "y_val = np.loadtxt(os.path.join(data_path, \"validate_values.txt\"), dtype=int)     # vali label\n",
    "\n",
    "print(\"Training data shape:\", X_train.shape)\n",
    "print(\"Validation data shape:\", X_val.shape)"
   ]
  },
  {
   "cell_type": "code",
   "execution_count": 2,
   "metadata": {},
   "outputs": [],
   "source": [
    "# Scaling the features for KMeans\n",
    "# standardizing/normalizing the data across - > prevent larger features from dominating the clustering\n",
    "# ex: in data \"radius\" & \"fractal dimension\" are on diff. scales\n",
    "\n",
    "scaler = StandardScaler()   # removes the mean and scales to the unit varience\n",
    "\n",
    "# fitting on the data and transforming\n",
    "X_train_scaled = scaler.fit_transform(X_train)\n",
    "X_val_scaled = scaler.transform(X_val)"
   ]
  },
  {
   "cell_type": "code",
   "execution_count": 3,
   "metadata": {},
   "outputs": [],
   "source": [
    "# KMeans algorithm (k = 2)\n",
    "\n",
    "kmeans = KMeans(n_clusters=2, n_init=10, random_state=42)  # 2 clusters for malignant vs. benign\n",
    "train_cluster_labels = kmeans.fit_predict(X_train_scaled) \n",
    "\n",
    "# should ouput 0 or 1 on training -> need to fix back to +1/-1"
   ]
  },
  {
   "cell_type": "code",
   "execution_count": 4,
   "metadata": {},
   "outputs": [
    {
     "name": "stdout",
     "output_type": "stream",
     "text": [
      "Cluster to label mapping: {0: -1, 1: 1}\n"
     ]
    }
   ],
   "source": [
    "# Mapping clusters to the above cluster labels (either +1 or -1)\n",
    "\n",
    "def map_clusters_to_labels(cluster_labels, true_labels):\n",
    "    label_mapping = {}\n",
    "    for cluster in [0, 1]:\n",
    "        indices = np.where(cluster_labels == cluster)[0]\n",
    "        votes = true_labels[indices]\n",
    "        majority = Counter(votes).most_common(1)[0][0]  # finding the common label\n",
    "        label_mapping[cluster] = majority\n",
    "    return label_mapping\n",
    "\n",
    "label_mapping = map_clusters_to_labels(train_cluster_labels, y_train) #mapp from cluster # to predict labels\n",
    "print(\"Cluster to label mapping:\", label_mapping)"
   ]
  },
  {
   "cell_type": "code",
   "execution_count": 8,
   "metadata": {},
   "outputs": [],
   "source": [
    "# predicting on the validation data -> which cluster it goes to\n",
    "\n",
    "val_cluster_preds = kmeans.predict(X_val_scaled)\n",
    "y_pred = np.array([label_mapping[cluster] for cluster in val_cluster_preds])"
   ]
  },
  {
   "cell_type": "code",
   "execution_count": 9,
   "metadata": {},
   "outputs": [
    {
     "name": "stdout",
     "output_type": "stream",
     "text": [
      "Validation Accuracy using KMeans (k=2): 95.00%\n"
     ]
    }
   ],
   "source": [
    "# evaluating the accuracy using K-Means\n",
    "\n",
    "accuracy = accuracy_score(y_val, y_pred) # % of correctly classified (given data vs predict by algo)\n",
    "print(f\"Validation Accuracy using K-Means (k=2): {accuracy * 100:.2f}%\")"
   ]
  },
  {
   "cell_type": "code",
   "execution_count": null,
   "metadata": {},
   "outputs": [],
   "source": []
  },
  {
   "cell_type": "markdown",
   "metadata": {},
   "source": [
    "**(b) Embed the data in dimensions d ∈ {5, 10, 20} using Gaussian matrix embedding and rerun k-means on the lower dimensional data set. What is the accuracy of the clustering for each dimension d? What is the computational time averaged over 500 independent runs?**"
   ]
  },
  {
   "cell_type": "code",
   "execution_count": 11,
   "metadata": {},
   "outputs": [],
   "source": [
    "# basically need to reduce training & validation to d ∈ {5, 10, 20} using Guassian Random Projection\n",
    "from sklearn.random_projection import GaussianRandomProjection\n",
    "import time\n",
    "\n",
    "# run one trial first -> guassian proj + K-Means + accuracy of that\n",
    "def run_kmeans_with_projection(X_train, y_train, X_val, y_val, d): \n",
    "\n",
    "    start = time.time() # start timer\n",
    "    \n",
    "    projector = GaussianRandomProjection(n_components=d) # guassian proj to reduce dimensionality\n",
    "    X_train_proj = projector.fit_transform(X_train)\n",
    "    X_val_proj = projector.transform(X_val)\n",
    "\n",
    "    # k-means on proj. data\n",
    "    kmeans = KMeans(n_clusters=2, n_init=10, random_state=None)\n",
    "    cluster_labels = kmeans.fit_predict(X_train_proj) # new clusters labels\n",
    "    # map new clusters -> new lables -> by prev. training labels\n",
    "    label_mapping = map_clusters_to_labels(cluster_labels, y_train)\n",
    "\n",
    "    # predict valid. cluster labels\n",
    "    val_cluster_preds = kmeans.predict(X_val_proj)\n",
    "    y_pred = np.array([label_mapping[cluster] for cluster in val_cluster_preds]) # map to actual labels\n",
    "\n",
    "    acc = accuracy_score(y_val, y_pred)\n",
    "    # elapsed time counter(s)\n",
    "    elapsed = time.time() - start\n",
    "    return acc, elapsed"
   ]
  },
  {
   "cell_type": "code",
   "execution_count": 13,
   "metadata": {},
   "outputs": [
    {
     "name": "stderr",
     "output_type": "stream",
     "text": [
      "  1%|          | 3/500 [00:00<00:20, 24.07it/s]"
     ]
    },
    {
     "name": "stdout",
     "output_type": "stream",
     "text": [
      "running gaussian proj. with d = 5...\n"
     ]
    },
    {
     "name": "stderr",
     "output_type": "stream",
     "text": [
      "100%|██████████| 500/500 [00:12<00:00, 39.54it/s]\n",
      "  1%|          | 5/500 [00:00<00:11, 44.38it/s]"
     ]
    },
    {
     "name": "stdout",
     "output_type": "stream",
     "text": [
      "✔︎ d = 5: avg accuracy = 86.78%, avg time = 0.0251 sec\n",
      "running gaussian proj. with d = 10...\n"
     ]
    },
    {
     "name": "stderr",
     "output_type": "stream",
     "text": [
      "100%|██████████| 500/500 [00:11<00:00, 43.77it/s]\n",
      "  0%|          | 2/500 [00:00<00:26, 18.72it/s]"
     ]
    },
    {
     "name": "stdout",
     "output_type": "stream",
     "text": [
      "✔︎ d = 10: avg accuracy = 90.89%, avg time = 0.0227 sec\n",
      "running gaussian proj. with d = 20...\n"
     ]
    },
    {
     "name": "stderr",
     "output_type": "stream",
     "text": [
      "100%|██████████| 500/500 [00:12<00:00, 38.58it/s]"
     ]
    },
    {
     "name": "stdout",
     "output_type": "stream",
     "text": [
      "✔︎ d = 20: avg accuracy = 94.11%, avg time = 0.0257 sec\n"
     ]
    },
    {
     "name": "stderr",
     "output_type": "stream",
     "text": [
      "\n"
     ]
    }
   ],
   "source": [
    "dims = [5, 10, 20]\n",
    "num_trials = 500\n",
    "results = {}      # empty dictionary to store\n",
    "\n",
    "from tqdm import trange # need a progress bar\n",
    "for d in dims:\n",
    "    print(f\"running gaussian proj. with d = {d}...\")\n",
    "    acc_list = []   # same, empty lists to store\n",
    "    time_list = []\n",
    "\n",
    "    for _ in trange(num_trials):\n",
    "        acc, t = run_kmeans_with_projection(X_train_scaled, y_train, X_val_scaled, y_val, d) #1 trial run = proj -> cluster -> predict -> eval => repeat\n",
    "        acc_list.append(acc) # new acc + time each trial\n",
    "        time_list.append(t)\n",
    "\n",
    "    avg_acc = np.mean(acc_list) # final avg of all\n",
    "    avg_time = np.mean(time_list)\n",
    "\n",
    "    results[d] = {\n",
    "        'avg_accuracy': avg_acc,  # appending to dictionary\n",
    "        'avg_time_sec': avg_time\n",
    "    }\n",
    "\n",
    "    print(f\"✔︎ d = {d}: avg accuracy = {avg_acc*100:.2f}%, avg time = {avg_time:.4f} sec\")\n"
   ]
  },
  {
   "cell_type": "code",
   "execution_count": 14,
   "metadata": {},
   "outputs": [
    {
     "name": "stdout",
     "output_type": "stream",
     "text": [
      "\n",
      " final summary:\n",
      "d = 5: accuracy = 86.78%, avg Time = 0.0251 sec\n",
      "d = 10: accuracy = 90.89%, avg Time = 0.0227 sec\n",
      "d = 20: accuracy = 94.11%, avg Time = 0.0257 sec\n"
     ]
    }
   ],
   "source": [
    "print(\"\\n final summary:\")\n",
    "for d, stats in results.items():\n",
    "    print(f\"d = {d}: accuracy = {stats['avg_accuracy']*100:.2f}%, avg Time = {stats['avg_time_sec']:.4f} sec\")"
   ]
  },
  {
   "cell_type": "code",
   "execution_count": null,
   "metadata": {},
   "outputs": [],
   "source": [
    "# accuracy is improving w/ dimensionality increasing\n",
    "# comp time low = good\n",
    "# the 20 d guass proj. is almost reaching the same performance as the 30 d from part 1(a)"
   ]
  },
  {
   "cell_type": "code",
   "execution_count": 15,
   "metadata": {},
   "outputs": [
    {
     "data": {
      "image/png": "[encoded data removed]",
      "text/plain": [
       "<Figure size 720x288 with 2 Axes>"
      ]
     },
     "metadata": {
      "needs_background": "light"
     },
     "output_type": "display_data"
    }
   ],
   "source": [
    "# visualizing the results for explanation on the video/report\n",
    "\n",
    "import matplotlib.pyplot as plt\n",
    "\n",
    "dims = [5, 10, 20]\n",
    "accs = [results[d]['avg_accuracy']*100 for d in dims]\n",
    "times = [results[d]['avg_time_sec'] for d in dims]\n",
    "\n",
    "plt.figure(figsize=(10, 4))\n",
    "\n",
    "# Accuracy Plot\n",
    "plt.subplot(1, 2, 1)\n",
    "plt.plot(dims, accs, marker='o', color='blue')\n",
    "plt.title(\"Accuracy vs Dimension\")\n",
    "plt.xlabel(\"Dimension (d)\")\n",
    "plt.ylabel(\"Accuracy (%)\")\n",
    "plt.grid(True)\n",
    "\n",
    "# Time Plot\n",
    "plt.subplot(1, 2, 2)\n",
    "plt.plot(dims, times, marker='o', color='green')\n",
    "plt.title(\"Average Runtime vs Dimension\")\n",
    "plt.xlabel(\"Dimension (d)\")\n",
    "plt.ylabel(\"Time (seconds)\")\n",
    "plt.grid(True)\n",
    "\n",
    "plt.tight_layout()\n",
    "plt.show()"
   ]
  },
  {
   "cell_type": "code",
   "execution_count": null,
   "metadata": {},
   "outputs": [],
   "source": []
  },
  {
   "cell_type": "markdown",
   "metadata": {},
   "source": [
    "**(c) Embed the data in dimensions d ∈ {5, 10, 20} using the sparse random rrojection and rerun k-means on the lower dimensional data set. What is the accuracy of the clustering for each dimension d? What is the computational time averaged over 500 independent runs?**"
   ]
  },
  {
   "cell_type": "code",
   "execution_count": 16,
   "metadata": {},
   "outputs": [],
   "source": [
    "\n",
    "# same code as part 1(b)\n",
    "# just changed gauss proj. to sparse random proj.\n",
    "\n",
    "from sklearn.random_projection import SparseRandomProjection\n",
    "\n",
    "# run one trial first -> guassian proj + K-Means + accuracy of that\n",
    "def run_kmeans_with_sparse_projection(X_train, y_train, X_val, y_val, d):\n",
    "   \n",
    "    start = time.time() # start timer\n",
    "\n",
    "    projector = SparseRandomProjection(n_components=d) # sparse proj to lower dimensionality\n",
    "    X_train_proj = projector.fit_transform(X_train)\n",
    "    X_val_proj = projector.transform(X_val)\n",
    "\n",
    "    # k-means on proj. data\n",
    "    kmeans = KMeans(n_clusters=2, n_init=10, random_state=None)\n",
    "    cluster_labels = kmeans.fit_predict(X_train_proj) # new clusters labels\n",
    "    # map new clusters -> new lables -> by prev. training labels\n",
    "    label_mapping = map_clusters_to_labels(cluster_labels, y_train)\n",
    "\n",
    "    # predict valid. cluster labels\n",
    "    val_cluster_preds = kmeans.predict(X_val_proj)\n",
    "    y_pred = np.array([label_mapping[cluster] for cluster in val_cluster_preds]) # map to actual labels\n",
    "\n",
    "    # elapsed time counter(s)\n",
    "    acc = accuracy_score(y_val, y_pred)\n",
    "    elapsed = time.time() - start\n",
    "    return acc, elapsed"
   ]
  },
  {
   "cell_type": "code",
   "execution_count": 17,
   "metadata": {},
   "outputs": [
    {
     "name": "stderr",
     "output_type": "stream",
     "text": [
      "  1%|          | 3/500 [00:00<00:22, 21.91it/s]"
     ]
    },
    {
     "name": "stdout",
     "output_type": "stream",
     "text": [
      "running sparse proj. with d = 5...\n"
     ]
    },
    {
     "name": "stderr",
     "output_type": "stream",
     "text": [
      "100%|██████████| 500/500 [00:14<00:00, 35.30it/s]\n",
      "  1%|          | 3/500 [00:00<00:17, 28.91it/s]"
     ]
    },
    {
     "name": "stdout",
     "output_type": "stream",
     "text": [
      "✔︎ d = 5: avg accuracy = 87.24%, avg time = 0.0281 sec\n",
      "running sparse proj. with d = 10...\n"
     ]
    },
    {
     "name": "stderr",
     "output_type": "stream",
     "text": [
      "100%|██████████| 500/500 [00:14<00:00, 35.17it/s]\n",
      "  1%|          | 3/500 [00:00<00:18, 27.53it/s]"
     ]
    },
    {
     "name": "stdout",
     "output_type": "stream",
     "text": [
      "✔︎ d = 10: avg accuracy = 90.33%, avg time = 0.0282 sec\n",
      "running sparse proj. with d = 20...\n"
     ]
    },
    {
     "name": "stderr",
     "output_type": "stream",
     "text": [
      "100%|██████████| 500/500 [00:14<00:00, 34.89it/s]"
     ]
    },
    {
     "name": "stdout",
     "output_type": "stream",
     "text": [
      "✔︎ d = 20: avg accuracy = 93.96%, avg time = 0.0284 sec\n"
     ]
    },
    {
     "name": "stderr",
     "output_type": "stream",
     "text": [
      "\n"
     ]
    }
   ],
   "source": [
    "dims = [5, 10, 20]\n",
    "num_trials = 500\n",
    "\n",
    "sparse_results = {}      # empty dictionary to store\n",
    "\n",
    "from tqdm import trange\n",
    "for d in dims:\n",
    "    print(f\"running sparse proj. with d = {d}...\")\n",
    "    acc_list = []   # same, empty lists to store\n",
    "    time_list = []\n",
    "\n",
    "    for _ in trange(num_trials):\n",
    "        acc, t = run_kmeans_with_sparse_projection(X_train_scaled, y_train, X_val_scaled, y_val, d) #1 trial run = proj -> cluster -> predict -> eval => repeat\n",
    "        acc_list.append(acc) # new acc + time each trial\n",
    "        time_list.append(t)\n",
    "\n",
    "    avg_acc = np.mean(acc_list) # final avg of all\n",
    "    avg_time = np.mean(time_list)\n",
    "\n",
    "    sparse_results[d] = {\n",
    "        'avg_accuracy': avg_acc,  # appending to dictionary\n",
    "        'avg_time_sec': avg_time\n",
    "    }\n",
    "\n",
    "    print(f\"✔︎ d = {d}: avg accuracy = {avg_acc*100:.2f}%, avg time = {avg_time:.4f} sec\")\n"
   ]
  },
  {
   "cell_type": "code",
   "execution_count": 18,
   "metadata": {},
   "outputs": [
    {
     "name": "stdout",
     "output_type": "stream",
     "text": [
      "\n",
      " final summary on sparse proj.:\n",
      "d = 5: accuracy = 87.24%, avg Time = 0.0281 sec\n",
      "d = 10: accuracy = 90.33%, avg Time = 0.0282 sec\n",
      "d = 20: accuracy = 93.96%, avg Time = 0.0284 sec\n"
     ]
    }
   ],
   "source": [
    "print(\"\\n final summary on sparse proj.:\")\n",
    "for d, stats in sparse_results.items():\n",
    "    print(f\"d = {d}: accuracy = {stats['avg_accuracy']*100:.2f}%, avg Time = {stats['avg_time_sec']:.4f} sec\")"
   ]
  },
  {
   "cell_type": "code",
   "execution_count": 21,
   "metadata": {},
   "outputs": [
    {
     "data": {
      "image/png": "[encoded data removed]",
      "text/plain": [
       "<Figure size 720x288 with 2 Axes>"
      ]
     },
     "metadata": {
      "needs_background": "light"
     },
     "output_type": "display_data"
    }
   ],
   "source": [
    "sparse_accs = [sparse_results[d]['avg_accuracy']*100 for d in dims]\n",
    "sparse_times = [sparse_results[d]['avg_time_sec'] for d in dims]\n",
    "\n",
    "plt.figure(figsize=(10, 4))\n",
    "\n",
    "# Accuracy plot\n",
    "plt.subplot(1, 2, 1)\n",
    "plt.plot(dims, sparse_accs, marker='o', color='darkorange')\n",
    "plt.title(\"Sparse RP: Accuracy vs Dimension\")\n",
    "plt.xlabel(\"Dimension (d)\")\n",
    "plt.ylabel(\"Accuracy (%)\")\n",
    "plt.grid(True)\n",
    "\n",
    "# Runtime plot\n",
    "plt.subplot(1, 2, 2)\n",
    "plt.plot(dims, sparse_times, marker='o', color='darkred')\n",
    "plt.title(\"Sparse RP: Runtime vs Dimension\")\n",
    "plt.xlabel(\"Dimension (d)\")\n",
    "plt.ylabel(\"Time (seconds)\")\n",
    "plt.grid(True)\n",
    "\n",
    "plt.tight_layout()\n",
    "plt.show()"
   ]
  },
  {
   "cell_type": "code",
   "execution_count": 22,
   "metadata": {},
   "outputs": [
    {
     "data": {
      "image/png": "[encoded data removed]",
      "text/plain": [
       "<Figure size 576x360 with 1 Axes>"
      ]
     },
     "metadata": {
      "needs_background": "light"
     },
     "output_type": "display_data"
    }
   ],
   "source": [
    "# need to compare guass vs sparse\n",
    "\n",
    "plt.figure(figsize=(8, 5))\n",
    "\n",
    "dims = [5, 10, 20]\n",
    "gauss_accs = [results[d]['avg_accuracy']*100 for d in dims]\n",
    "sparse_accs = [sparse_results[d]['avg_accuracy']*100 for d in dims]\n",
    "\n",
    "plt.plot(dims, gauss_accs, marker='o', label='Gaussian RP', color='blue')\n",
    "plt.plot(dims, sparse_accs, marker='s', label='Sparse RP', color='orange')\n",
    "\n",
    "plt.title(\"Accuracy vs Dimension: Gaussian vs Sparse RP\")\n",
    "plt.xlabel(\"Projected Dimension (d)\")\n",
    "plt.ylabel(\"Accuracy (%)\")\n",
    "plt.grid(True)\n",
    "plt.legend()\n",
    "plt.tight_layout()\n",
    "plt.show()"
   ]
  },
  {
   "cell_type": "code",
   "execution_count": null,
   "metadata": {},
   "outputs": [],
   "source": [
    "# so guass slightly better > than sparse in higher dims, BUT sparse > guass in lower dims\n",
    "# at a lower dims middlepoint they are similar"
   ]
  },
  {
   "cell_type": "code",
   "execution_count": null,
   "metadata": {},
   "outputs": [],
   "source": []
  },
  {
   "cell_type": "markdown",
   "metadata": {},
   "source": [
    "# Problem 2"
   ]
  },
  {
   "cell_type": "markdown",
   "metadata": {},
   "source": [
    "- Read in the data in *train.txt* into a matrix A whose rows correspond to the data for each patient in the data set. The elements in a row correspond to the 30 features measured for a patient.\n",
    "- Read in the data in *train values.txt* into a vector $b$ whose domain is the set of patients and $b_i$ is 1 if the specimen of patient $i$ is malignant and it’s -1 if the specimen is benign."
   ]
  },
  {
   "cell_type": "markdown",
   "metadata": {},
   "source": [
    "#### least sqrs: $ min_x || Ax - b||_2^2$\n",
    "#### QR decomp: $ x = R^{-1} Q^T b $"
   ]
  },
  {
   "cell_type": "code",
   "execution_count": 25,
   "metadata": {},
   "outputs": [],
   "source": [
    "# (1) load training data: train.txt -> features -> A, train_values -> lables -> b \n",
    "\n",
    "# (2) fitting the linear model using least squares solution\n",
    "\n",
    "# (3) then apply QR decomp. to get optimal x\n",
    "\n",
    "# x -> weight vector"
   ]
  },
  {
   "cell_type": "markdown",
   "metadata": {},
   "source": [
    "**(a) Use the QR algorithm to find the least-squares linear model for the data.**"
   ]
  },
  {
   "cell_type": "code",
   "execution_count": 26,
   "metadata": {},
   "outputs": [],
   "source": [
    "# training data and labels\n",
    "X_train = np.loadtxt(os.path.join(data_path, \"train.txt\"), delimiter=\",\")\n",
    "y_train = np.loadtxt(os.path.join(data_path, \"train_values.txt\"), dtype=int)\n",
    "\n",
    "# standardize/normalize featrs -> imprt for numerical stability\n",
    "scaler = StandardScaler()\n",
    "X_train_scaled = scaler.fit_transform(X_train)"
   ]
  },
  {
   "cell_type": "code",
   "execution_count": 27,
   "metadata": {},
   "outputs": [],
   "source": [
    "# computing QR decomposition: A = QR\n",
    "Q, R = np.linalg.qr(X_train_scaled)\n",
    "\n",
    "# compute least squares solution: x = R^{-1} Q^T b\n",
    "x_ls = np.linalg.solve(R, Q.T @ y_train)"
   ]
  },
  {
   "cell_type": "code",
   "execution_count": 33,
   "metadata": {},
   "outputs": [
    {
     "name": "stdout",
     "output_type": "stream",
     "text": [
      "all coefficients of least squares solution:\n",
      "[-2.15322136  0.10496665  1.91466725  0.2046981   0.12170976 -0.51890037\n",
      "  0.03087999  0.14276811 -0.09424895  0.04956945  0.32869246  0.02369661\n",
      " -0.13144432 -0.07876635  0.09226428  0.05727017 -0.15459532  0.12226035\n",
      " -0.07025935 -0.09478202  1.65752714  0.05136566  0.30397922 -1.39947321\n",
      " -0.05616157 -0.07515524  0.11741832  0.13410353  0.2139487   0.21238152]\n"
     ]
    }
   ],
   "source": [
    "# 30 coeffs in total\n",
    "\n",
    "# print first few coefficients\n",
    "#print(\"first 6 coefficients of least squares solution:\")\n",
    "#print(x_ls[:6])\n",
    "\n",
    "print(\"all coefficients of least squares solution:\")\n",
    "print(x_ls[:30])"
   ]
  },
  {
   "cell_type": "code",
   "execution_count": 34,
   "metadata": {},
   "outputs": [],
   "source": [
    "# so large + coeffs mean feature -> predicting malignant tumor (+1)\n",
    "# and large - coeff means -> predict benign (-1)\n",
    "# if in the middle/small coeff -> little classification"
   ]
  },
  {
   "cell_type": "code",
   "execution_count": null,
   "metadata": {},
   "outputs": [],
   "source": []
  },
  {
   "cell_type": "markdown",
   "metadata": {},
   "source": [
    "**(b) Apply the linear model from (a) to the data set *validate.txt* and predict the malignancy of the tissues. You will have to define a classifier function:\n",
    "$$\n",
    "C(y) = \\begin{cases}\n",
    "+1 & \\text{if the prediction is non-negative} \\\\\n",
    "-1 & \\text{otherwise }\n",
    "\\end{cases}\n",
    "$$**"
   ]
  },
  {
   "cell_type": "code",
   "execution_count": 36,
   "metadata": {},
   "outputs": [],
   "source": [
    "# x_ls becomes the weight vector x\n",
    "\n",
    "# validation data and labels\n",
    "X_val = np.loadtxt(os.path.join(data_path, \"validate.txt\"), delimiter=\",\")\n",
    "y_val = np.loadtxt(os.path.join(data_path, \"validate_values.txt\"), dtype=int)\n",
    "\n",
    "# standardizing using training set's scaler\n",
    "X_val_scaled = scaler.transform(X_val)"
   ]
  },
  {
   "cell_type": "code",
   "execution_count": 37,
   "metadata": {},
   "outputs": [],
   "source": [
    "# predict raw values -> y_hat = A*x\n",
    "y_pred_raw = X_val_scaled @ x_ls\n",
    "\n",
    "# classifier function: +1 if ≥ 0, else -1\n",
    "y_pred = np.where(y_pred_raw >= 0, 1, -1)"
   ]
  },
  {
   "cell_type": "code",
   "execution_count": 38,
   "metadata": {},
   "outputs": [
    {
     "name": "stdout",
     "output_type": "stream",
     "text": [
      "Validation Accuracy: 97.31%\n"
     ]
    }
   ],
   "source": [
    "from sklearn.metrics import accuracy_score\n",
    "\n",
    "accuracy_val = accuracy_score(y_val, y_pred)\n",
    "print(f\"Validation Accuracy: {accuracy_val * 100:.2f}%\")"
   ]
  },
  {
   "cell_type": "code",
   "execution_count": 39,
   "metadata": {},
   "outputs": [],
   "source": [
    "# accuracy is better than k-means/guass/sparse from prob. 1\n",
    "# bc least sqr = supervised = directly training on data VS. k-means = unsupervised"
   ]
  },
  {
   "cell_type": "code",
   "execution_count": null,
   "metadata": {},
   "outputs": [],
   "source": []
  },
  {
   "cell_type": "markdown",
   "metadata": {},
   "source": [
    "**(c) What is the percentage of samples that are incorrectly classified? Is it greater or smaller than the success rate on the training data?**"
   ]
  },
  {
   "cell_type": "code",
   "execution_count": 40,
   "metadata": {},
   "outputs": [
    {
     "name": "stdout",
     "output_type": "stream",
     "text": [
      "training acc: 96.33%\n",
      "validation acc: 97.31%\n"
     ]
    }
   ],
   "source": [
    "# determing overfit or underfit on model to training data fit\n",
    "\n",
    "# predicting  on the training set\n",
    "y_train_pred_raw = X_train_scaled @ x_ls\n",
    "y_train_pred = np.where(y_train_pred_raw >= 0, 1, -1)\n",
    "\n",
    "# find training acc\n",
    "accuracy_train = accuracy_score(y_train, y_train_pred)\n",
    "\n",
    "print(f\"training acc: {accuracy_train * 100:.2f}%\")\n",
    "print(f\"validation acc: {accuracy_val * 100:.2f}%\")\n"
   ]
  },
  {
   "cell_type": "code",
   "execution_count": 42,
   "metadata": {},
   "outputs": [],
   "source": [
    "# key finding = both % high = model good\n",
    "# valid slightly > training so model will be good on unseen data\n",
    "# no over/under fitting yet"
   ]
  },
  {
   "cell_type": "code",
   "execution_count": null,
   "metadata": {
    "collapsed": true
   },
   "outputs": [],
   "source": []
  },
  {
   "cell_type": "code",
   "execution_count": null,
   "metadata": {},
   "outputs": [],
   "source": []
  },
  {
   "cell_type": "markdown",
   "metadata": {},
   "source": [
    "**(d) Embed the data in dimensions *d* ∈ {5, 10, 20} using Gaussian matrix embedding and repeat the work in (a),(b) and (c) for each lower dimension *d*. What is the computational time averaged over 500 independent runs?**"
   ]
  },
  {
   "cell_type": "code",
   "execution_count": 44,
   "metadata": {},
   "outputs": [],
   "source": [
    "# similar to 1(b)/1(c) but instead using least-sqrs (not k-menas)\n",
    "\n",
    "\n",
    "# proj. data using gauss rand.proj. -> solve least sqr by QR decomp -> acc on valid. datapoints\n",
    "def run_least_squares_with_gaussian_projection(X_train, y_train, X_val, y_val, d):\n",
    "   \n",
    "    start = time.time()\n",
    "\n",
    "    projector = GaussianRandomProjection(n_components=d) #g. r. p.\n",
    "    X_train_proj = projector.fit_transform(X_train)\n",
    "    X_val_proj = projector.transform(X_val)\n",
    "\n",
    "    # -> solve least sqr by QR decomp ->\n",
    "    Q, R = np.linalg.qr(X_train_proj)\n",
    "    x_ls = np.linalg.solve(R, Q.T @ y_train)\n",
    "\n",
    "    # predict on validation set\n",
    "    y_val_pred_raw = X_val_proj @ x_ls\n",
    "    y_val_pred = np.where(y_val_pred_raw >= 0, 1, -1)\n",
    "\n",
    "    acc = accuracy_score(y_val, y_val_pred)\n",
    "    elapsed = time.time() - start\n",
    "    return acc, elapsed"
   ]
  },
  {
   "cell_type": "code",
   "execution_count": 45,
   "metadata": {},
   "outputs": [
    {
     "name": "stdout",
     "output_type": "stream",
     "text": [
      "\n",
      "Running Least Squares with Gaussian Projection (d = 5)...\n",
      "✔︎ d = 5: Accuracy = 92.46%, Avg Time = 0.0006 sec\n",
      "\n",
      "Running Least Squares with Gaussian Projection (d = 10)...\n",
      "✔︎ d = 10: Accuracy = 96.15%, Avg Time = 0.0005 sec\n",
      "\n",
      "Running Least Squares with Gaussian Projection (d = 20)...\n",
      "✔︎ d = 20: Accuracy = 97.29%, Avg Time = 0.0006 sec\n"
     ]
    }
   ],
   "source": [
    "# copying structure from 1(b)\n",
    "\n",
    "dims = [5, 10, 20]\n",
    "num_trials = 500\n",
    "\n",
    "ls_gaussian_results = {}\n",
    "\n",
    "for d in dims:\n",
    "    print(f\"\\nRunning Least Squares with Gaussian Projection (d = {d})...\")\n",
    "    \n",
    "    acc_list = []\n",
    "    time_list = []\n",
    "\n",
    "    for _ in range(num_trials):\n",
    "        acc, t = run_least_squares_with_gaussian_projection(X_train_scaled, y_train, X_val_scaled, y_val, d)\n",
    "        acc_list.append(acc)\n",
    "        time_list.append(t)\n",
    "\n",
    "    avg_acc = np.mean(acc_list)\n",
    "    avg_time = np.mean(time_list)\n",
    "\n",
    "    ls_gaussian_results[d] = {\n",
    "        'avg_accuracy': avg_acc,\n",
    "        'avg_time_sec': avg_time\n",
    "    }\n",
    "\n",
    "    print(f\"✔︎ d = {d}: Accuracy = {avg_acc*100:.2f}%, Avg Time = {avg_time:.4f} sec\")"
   ]
  },
  {
   "cell_type": "code",
   "execution_count": null,
   "metadata": {},
   "outputs": [],
   "source": [
    "# really really fast compared to prob 1 times AND great acc %s\n",
    "#20 d and 30 d almost same"
   ]
  },
  {
   "cell_type": "code",
   "execution_count": 46,
   "metadata": {},
   "outputs": [
    {
     "name": "stdout",
     "output_type": "stream",
     "text": [
      "\n",
      " final Summary – Least Squares w/ Gauss. proj.:\n",
      "d = 5: accuracy = 92.46%, avg. time = 0.0006 sec\n",
      "d = 10: accuracy = 96.15%, avg. time = 0.0005 sec\n",
      "d = 20: accuracy = 97.29%, avg. time = 0.0006 sec\n"
     ]
    }
   ],
   "source": [
    "print(\"\\n final Summary – Least Squares w/ Gauss. proj.:\")\n",
    "for d, stats in ls_gaussian_results.items():\n",
    "    print(f\"d = {d}: accuracy = {stats['avg_accuracy']*100:.2f}%, avg. time = {stats['avg_time_sec']:.4f} sec\")"
   ]
  },
  {
   "cell_type": "code",
   "execution_count": 47,
   "metadata": {},
   "outputs": [
    {
     "data": {
      "image/png": "[encoded data removed]",
      "text/plain": [
       "<Figure size 720x288 with 2 Axes>"
      ]
     },
     "metadata": {
      "needs_background": "light"
     },
     "output_type": "display_data"
    }
   ],
   "source": [
    "# comparing ls trend\n",
    "import matplotlib.pyplot as plt\n",
    "\n",
    "dims = [5, 10, 20]\n",
    "accs = [ls_gaussian_results[d]['avg_accuracy']*100 for d in dims]\n",
    "times = [ls_gaussian_results[d]['avg_time_sec'] for d in dims]\n",
    "\n",
    "plt.figure(figsize=(10, 4))\n",
    "\n",
    "# acc\n",
    "plt.subplot(1, 2, 1)\n",
    "plt.plot(dims, accs, marker='o', color='purple')\n",
    "plt.title(\"least sqrs (Gauss R.P.): accuracy vs dimensions\")\n",
    "plt.xlabel(\"projected dimension (d)\")\n",
    "plt.ylabel(\"accuracy (%)\")\n",
    "plt.grid(True)\n",
    "\n",
    "# sec\n",
    "plt.subplot(1, 2, 2)\n",
    "plt.plot(dims, times, marker='o', color='teal')\n",
    "plt.title(\"least sqrs (Gauss R.P.): runtime(s) vs dimension\")\n",
    "plt.xlabel(\"projected dimension (d)\")\n",
    "plt.ylabel(\"time (seconds)\")\n",
    "plt.grid(True)\n",
    "\n",
    "plt.tight_layout()\n",
    "plt.show()"
   ]
  },
  {
   "cell_type": "code",
   "execution_count": null,
   "metadata": {},
   "outputs": [],
   "source": []
  },
  {
   "cell_type": "markdown",
   "metadata": {},
   "source": [
    "**(e) Embed the data in dimensions *d* ∈ {5, 10, 20} using sparse random projection and repeat the work in (a), (b) and (c) for each lower dimension *d*. What is the computational time averaged over 500 independent runs?**"
   ]
  },
  {
   "cell_type": "code",
   "execution_count": 48,
   "metadata": {},
   "outputs": [],
   "source": [
    "# building off of 2(d) above -> replaced guass w/ sparse"
   ]
  },
  {
   "cell_type": "code",
   "execution_count": 53,
   "metadata": {},
   "outputs": [],
   "source": [
    "def run_least_squares_with_sparse_projection(X_train, y_train, X_val, y_val, d):\n",
    "    \n",
    "    start = time.time()\n",
    "\n",
    "    # sparse RP\n",
    "    projector = SparseRandomProjection(n_components=d)\n",
    "    X_train_proj = projector.fit_transform(X_train)\n",
    "    X_val_proj = projector.transform(X_val)\n",
    "    \n",
    "    # -> solve least sqr by QR decomp ->\n",
    "    Q, R = np.linalg.qr(X_train_proj)\n",
    "    #x_ls = np.linalg.solve(R, Q.T @ y_train) -> was giving LinAlgError: Singular matrix ERROR\n",
    "    # using psedo-inverse so even if R appears singular/non-invertible -> least sqr works\n",
    "    x_ls = np.linalg.pinv(R) @ Q.T @ y_train \n",
    "    \n",
    "    \n",
    "    # predict on validation set\n",
    "    y_val_pred_raw = X_val_proj @ x_ls\n",
    "    y_val_pred = np.where(y_val_pred_raw >= 0, 1, -1)\n",
    "\n",
    "    acc = accuracy_score(y_val, y_val_pred)\n",
    "    elapsed = time.time() - start\n",
    "    return acc, elapsed"
   ]
  },
  {
   "cell_type": "code",
   "execution_count": 54,
   "metadata": {},
   "outputs": [
    {
     "name": "stdout",
     "output_type": "stream",
     "text": [
      "\n",
      " Running Least Squares with Sparse RP (d = 5)...\n",
      "✔︎ d = 5: accuracy = 92.33%, avg Time = 0.0015 sec\n",
      "\n",
      " Running Least Squares with Sparse RP (d = 10)...\n",
      "✔︎ d = 10: accuracy = 96.33%, avg Time = 0.0014 sec\n",
      "\n",
      " Running Least Squares with Sparse RP (d = 20)...\n",
      "✔︎ d = 20: accuracy = 97.30%, avg Time = 0.0015 sec\n"
     ]
    }
   ],
   "source": [
    "dims = [5, 10, 20]\n",
    "num_trials = 500\n",
    "ls_sparse_results = {}\n",
    "\n",
    "for d in dims:\n",
    "    print(f\"\\n Running Least Squares with Sparse RP (d = {d})...\")\n",
    "\n",
    "    acc_list = []\n",
    "    time_list = []\n",
    "\n",
    "    for _ in range(num_trials):\n",
    "        acc, t = run_least_squares_with_sparse_projection(X_train_scaled, y_train, X_val_scaled, y_val, d)\n",
    "        acc_list.append(acc)\n",
    "        time_list.append(t)\n",
    "\n",
    "    avg_acc = np.mean(acc_list)\n",
    "    avg_time = np.mean(time_list)\n",
    "    ls_sparse_results[d] = {\n",
    "        'avg_accuracy': avg_acc,\n",
    "        'avg_time_sec': avg_time\n",
    "    }\n",
    "\n",
    "    print(f\"✔︎ d = {d}: accuracy = {avg_acc*100:.2f}%, avg Time = {avg_time:.4f} sec\")"
   ]
  },
  {
   "cell_type": "code",
   "execution_count": 55,
   "metadata": {},
   "outputs": [],
   "source": [
    "# same high acc and speed is still good"
   ]
  },
  {
   "cell_type": "code",
   "execution_count": 57,
   "metadata": {},
   "outputs": [
    {
     "data": {
      "image/png": "[encoded data removed]",
      "text/plain": [
       "<Figure size 720x288 with 2 Axes>"
      ]
     },
     "metadata": {
      "needs_background": "light"
     },
     "output_type": "display_data"
    }
   ],
   "source": [
    "# sparse trends\n",
    "\n",
    "dims = [5, 10, 20]\n",
    "accs_sparse = [ls_sparse_results[d]['avg_accuracy']*100 for d in dims]\n",
    "times_sparse = [ls_sparse_results[d]['avg_time_sec'] for d in dims]\n",
    "\n",
    "plt.figure(figsize=(10, 4))\n",
    "\n",
    "# acc\n",
    "plt.subplot(1, 2, 1)\n",
    "plt.plot(dims, accs_sparse, marker='o', color='darkorange')\n",
    "plt.title(\"Least Squares (Sparse RP): Accuracy vs Dimension\")\n",
    "plt.xlabel(\"Projected Dimension (d)\")\n",
    "plt.ylabel(\"Accuracy (%)\")\n",
    "plt.grid(True)\n",
    "\n",
    "# runtime\n",
    "plt.subplot(1, 2, 2)\n",
    "plt.plot(dims, times_sparse, marker='o', color='seagreen')\n",
    "plt.title(\"Least Squares (Sparse RP): Runtime vs Dimension\")\n",
    "plt.xlabel(\"Projected Dimension (d)\")\n",
    "plt.ylabel(\"Time (seconds)\")\n",
    "plt.grid(True)\n",
    "\n",
    "plt.tight_layout()\n",
    "plt.show()"
   ]
  },
  {
   "cell_type": "code",
   "execution_count": null,
   "metadata": {},
   "outputs": [],
   "source": []
  },
  {
   "cell_type": "code",
   "execution_count": 58,
   "metadata": {},
   "outputs": [
    {
     "data": {
      "image/png": "[encoded data removed]",
      "text/plain": [
       "<Figure size 864x360 with 2 Axes>"
      ]
     },
     "metadata": {
      "needs_background": "light"
     },
     "output_type": "display_data"
    }
   ],
   "source": [
    "# comparing GRP vs sparse\n",
    "\n",
    "dims = [5, 10, 20]\n",
    "# aacc\n",
    "accs_gauss = [ls_gaussian_results[d]['avg_accuracy'] * 100 for d in dims]\n",
    "accs_sparse = [ls_sparse_results[d]['avg_accuracy'] * 100 for d in dims]\n",
    "# runtime\n",
    "times_gauss = [ls_gaussian_results[d]['avg_time_sec'] for d in dims]\n",
    "times_sparse = [ls_sparse_results[d]['avg_time_sec'] for d in dims]\n",
    "\n",
    "import matplotlib.pyplot as plt\n",
    "\n",
    "plt.figure(figsize=(12, 5))\n",
    "\n",
    "# acc Comparison\n",
    "plt.subplot(1, 2, 1)\n",
    "plt.plot(dims, accs_gauss, marker='o', label='Gaussian RP', color='blue')\n",
    "plt.plot(dims, accs_sparse, marker='o', label='Sparse RP', color='darkorange')\n",
    "plt.title(\"Accuracy vs Dimension (Least Squares)\")\n",
    "plt.xlabel(\"Projected Dimension (d)\")\n",
    "plt.ylabel(\"Accuracy (%)\")\n",
    "plt.grid(True)\n",
    "plt.legend()\n",
    "\n",
    "# runtime Comparison\n",
    "plt.subplot(1, 2, 2)\n",
    "plt.plot(dims, times_gauss, marker='o', label='Gaussian RP', color='blue')\n",
    "plt.plot(dims, times_sparse, marker='o', label='Sparse RP', color='darkorange')\n",
    "plt.title(\"Runtime vs Dimension (Least Squares)\")\n",
    "plt.xlabel(\"Projected Dimension (d)\")\n",
    "plt.ylabel(\"Time (seconds)\")\n",
    "plt.grid(True)\n",
    "plt.legend()\n",
    "\n",
    "plt.tight_layout()\n",
    "plt.show()"
   ]
  },
  {
   "cell_type": "code",
   "execution_count": 59,
   "metadata": {},
   "outputs": [],
   "source": [
    "# note y axis for runtime plot, differences of ~0.0009 seconds"
   ]
  },
  {
   "cell_type": "code",
   "execution_count": null,
   "metadata": {},
   "outputs": [],
   "source": []
  },
  {
   "cell_type": "markdown",
   "metadata": {},
   "source": [
    "# Problem 3"
   ]
  },
  {
   "cell_type": "markdown",
   "metadata": {},
   "source": [
    "**Apply k-means to the class music data songList.xlsx and use Class Roster to group the class into 8 distinct music clusters.**\n"
   ]
  },
  {
   "cell_type": "code",
   "execution_count": 62,
   "metadata": {},
   "outputs": [],
   "source": [
    "import pandas as pd\n",
    "import numpy as np\n",
    "import matplotlib.pyplot as plt\n",
    "from sklearn.cluster import KMeans\n",
    "from sklearn.preprocessing import StandardScaler"
   ]
  },
  {
   "cell_type": "code",
   "execution_count": 68,
   "metadata": {},
   "outputs": [
    {
     "data": {
      "text/html": [
       "<div>\n",
       "<style scoped>\n",
       "    .dataframe tbody tr th:only-of-type {\n",
       "        vertical-align: middle;\n",
       "    }\n",
       "\n",
       "    .dataframe tbody tr th {\n",
       "        vertical-align: top;\n",
       "    }\n",
       "\n",
       "    .dataframe thead th {\n",
       "        text-align: right;\n",
       "    }\n",
       "</style>\n",
       "<table border=\"1\" class=\"dataframe\">\n",
       "  <thead>\n",
       "    <tr style=\"text-align: right;\">\n",
       "      <th></th>\n",
       "      <th>Song</th>\n",
       "      <th>Artist</th>\n",
       "      <th>1</th>\n",
       "      <th>2</th>\n",
       "      <th>3</th>\n",
       "      <th>4</th>\n",
       "      <th>5</th>\n",
       "      <th>6</th>\n",
       "      <th>7</th>\n",
       "      <th>8</th>\n",
       "      <th>...</th>\n",
       "      <th>23</th>\n",
       "      <th>24</th>\n",
       "      <th>25</th>\n",
       "      <th>26</th>\n",
       "      <th>27</th>\n",
       "      <th>28</th>\n",
       "      <th>29</th>\n",
       "      <th>30</th>\n",
       "      <th>31</th>\n",
       "      <th>32</th>\n",
       "    </tr>\n",
       "  </thead>\n",
       "  <tbody>\n",
       "    <tr>\n",
       "      <th>0</th>\n",
       "      <td>Take On Me</td>\n",
       "      <td>A-Ha</td>\n",
       "      <td>0</td>\n",
       "      <td>0</td>\n",
       "      <td>0</td>\n",
       "      <td>0</td>\n",
       "      <td>0</td>\n",
       "      <td>0</td>\n",
       "      <td>0</td>\n",
       "      <td>0</td>\n",
       "      <td>...</td>\n",
       "      <td>3</td>\n",
       "      <td>3</td>\n",
       "      <td>0</td>\n",
       "      <td>5</td>\n",
       "      <td>0</td>\n",
       "      <td>3</td>\n",
       "      <td>3</td>\n",
       "      <td>0</td>\n",
       "      <td>0</td>\n",
       "      <td>1</td>\n",
       "    </tr>\n",
       "    <tr>\n",
       "      <th>1</th>\n",
       "      <td>Thunderstruck</td>\n",
       "      <td>Ac/Dc</td>\n",
       "      <td>0</td>\n",
       "      <td>0</td>\n",
       "      <td>0</td>\n",
       "      <td>0</td>\n",
       "      <td>3</td>\n",
       "      <td>0</td>\n",
       "      <td>0</td>\n",
       "      <td>0</td>\n",
       "      <td>...</td>\n",
       "      <td>2</td>\n",
       "      <td>0</td>\n",
       "      <td>0</td>\n",
       "      <td>1</td>\n",
       "      <td>0</td>\n",
       "      <td>3</td>\n",
       "      <td>2</td>\n",
       "      <td>0</td>\n",
       "      <td>0</td>\n",
       "      <td>0</td>\n",
       "    </tr>\n",
       "    <tr>\n",
       "      <th>2</th>\n",
       "      <td>Hello</td>\n",
       "      <td>Adele</td>\n",
       "      <td>2</td>\n",
       "      <td>0</td>\n",
       "      <td>0</td>\n",
       "      <td>0</td>\n",
       "      <td>3</td>\n",
       "      <td>1</td>\n",
       "      <td>0</td>\n",
       "      <td>0</td>\n",
       "      <td>...</td>\n",
       "      <td>3</td>\n",
       "      <td>0</td>\n",
       "      <td>0</td>\n",
       "      <td>3</td>\n",
       "      <td>0</td>\n",
       "      <td>0</td>\n",
       "      <td>4</td>\n",
       "      <td>0</td>\n",
       "      <td>0</td>\n",
       "      <td>2</td>\n",
       "    </tr>\n",
       "    <tr>\n",
       "      <th>3</th>\n",
       "      <td>Rolling In The Deep</td>\n",
       "      <td>Adele</td>\n",
       "      <td>0</td>\n",
       "      <td>0</td>\n",
       "      <td>0</td>\n",
       "      <td>0</td>\n",
       "      <td>4</td>\n",
       "      <td>1</td>\n",
       "      <td>0</td>\n",
       "      <td>0</td>\n",
       "      <td>...</td>\n",
       "      <td>1</td>\n",
       "      <td>0</td>\n",
       "      <td>0</td>\n",
       "      <td>3</td>\n",
       "      <td>0</td>\n",
       "      <td>4</td>\n",
       "      <td>3</td>\n",
       "      <td>0</td>\n",
       "      <td>0</td>\n",
       "      <td>2</td>\n",
       "    </tr>\n",
       "    <tr>\n",
       "      <th>4</th>\n",
       "      <td>Scars To Your Beautiful</td>\n",
       "      <td>Alessia Cara</td>\n",
       "      <td>0</td>\n",
       "      <td>0</td>\n",
       "      <td>0</td>\n",
       "      <td>0</td>\n",
       "      <td>3</td>\n",
       "      <td>5</td>\n",
       "      <td>0</td>\n",
       "      <td>0</td>\n",
       "      <td>...</td>\n",
       "      <td>0</td>\n",
       "      <td>0</td>\n",
       "      <td>0</td>\n",
       "      <td>1</td>\n",
       "      <td>0</td>\n",
       "      <td>0</td>\n",
       "      <td>2</td>\n",
       "      <td>0</td>\n",
       "      <td>0</td>\n",
       "      <td>0</td>\n",
       "    </tr>\n",
       "  </tbody>\n",
       "</table>\n",
       "<p>5 rows × 34 columns</p>\n",
       "</div>"
      ],
      "text/plain": [
       "                      Song        Artist  1  2  3  4  5  6  7  8  ...  23  24  \\\n",
       "0               Take On Me          A-Ha  0  0  0  0  0  0  0  0  ...   3   3   \n",
       "1            Thunderstruck         Ac/Dc  0  0  0  0  3  0  0  0  ...   2   0   \n",
       "2                    Hello         Adele  2  0  0  0  3  1  0  0  ...   3   0   \n",
       "3      Rolling In The Deep         Adele  0  0  0  0  4  1  0  0  ...   1   0   \n",
       "4  Scars To Your Beautiful  Alessia Cara  0  0  0  0  3  5  0  0  ...   0   0   \n",
       "\n",
       "   25  26  27  28  29  30  31  32  \n",
       "0   0   5   0   3   3   0   0   1  \n",
       "1   0   1   0   3   2   0   0   0  \n",
       "2   0   3   0   0   4   0   0   2  \n",
       "3   0   3   0   4   3   0   0   2  \n",
       "4   0   1   0   0   2   0   0   0  \n",
       "\n",
       "[5 rows x 34 columns]"
      ]
     },
     "execution_count": 68,
     "metadata": {},
     "output_type": "execute_result"
    }
   ],
   "source": [
    "# loading both files; dataframes\n",
    "\n",
    "songlist_path = \"/Users/pragyajha/Downloads/MATH425_songList.xlsx\"\n",
    "roster_path = \"/Users/pragyajha/Downloads/MATH425_Fall2025_roster - Copy.xlsx\"\n",
    "\n",
    "df_songs = pd.read_excel(songlist_path)\n",
    "df_songs.head()"
   ]
  },
  {
   "cell_type": "code",
   "execution_count": 69,
   "metadata": {},
   "outputs": [
    {
     "data": {
      "text/html": [
       "<div>\n",
       "<style scoped>\n",
       "    .dataframe tbody tr th:only-of-type {\n",
       "        vertical-align: middle;\n",
       "    }\n",
       "\n",
       "    .dataframe tbody tr th {\n",
       "        vertical-align: top;\n",
       "    }\n",
       "\n",
       "    .dataframe thead th {\n",
       "        text-align: right;\n",
       "    }\n",
       "</style>\n",
       "<table border=\"1\" class=\"dataframe\">\n",
       "  <thead>\n",
       "    <tr style=\"text-align: right;\">\n",
       "      <th></th>\n",
       "      <th>Aviles,Francis Jake</th>\n",
       "    </tr>\n",
       "  </thead>\n",
       "  <tbody>\n",
       "    <tr>\n",
       "      <th>0</th>\n",
       "      <td>Bohlander,Ty Jerome</td>\n",
       "    </tr>\n",
       "    <tr>\n",
       "      <th>1</th>\n",
       "      <td>Boykin,Dominique Isaiah</td>\n",
       "    </tr>\n",
       "    <tr>\n",
       "      <th>2</th>\n",
       "      <td>Dacumos,Daniel Jose Santos</td>\n",
       "    </tr>\n",
       "    <tr>\n",
       "      <th>3</th>\n",
       "      <td>Dang,Duy</td>\n",
       "    </tr>\n",
       "    <tr>\n",
       "      <th>4</th>\n",
       "      <td>Dominguez,Mario</td>\n",
       "    </tr>\n",
       "  </tbody>\n",
       "</table>\n",
       "</div>"
      ],
      "text/plain": [
       "          Aviles,Francis Jake\n",
       "0         Bohlander,Ty Jerome\n",
       "1     Boykin,Dominique Isaiah\n",
       "2  Dacumos,Daniel Jose Santos\n",
       "3                    Dang,Duy\n",
       "4             Dominguez,Mario"
      ]
     },
     "execution_count": 69,
     "metadata": {},
     "output_type": "execute_result"
    }
   ],
   "source": [
    "df_roster = pd.read_excel(roster_path)\n",
    "df_roster.head()"
   ]
  },
  {
   "cell_type": "code",
   "execution_count": null,
   "metadata": {},
   "outputs": [],
   "source": []
  },
  {
   "cell_type": "code",
   "execution_count": 73,
   "metadata": {},
   "outputs": [],
   "source": [
    "# start clustering -> then student-roster mapping"
   ]
  },
  {
   "cell_type": "code",
   "execution_count": 89,
   "metadata": {},
   "outputs": [
    {
     "name": "stdout",
     "output_type": "stream",
     "text": [
      "['Song', 'Artist', 1, 2, 3, 4, 5, 6, 7, 8, 9, 10, 11, 12, 13, 14, 15, 16, 17, 18, 19, 20, 21, 22, 23, 24, 25, 26, 27, 28, 29, 30, 31, 32]\n"
     ]
    }
   ],
   "source": [
    "print(df_songs.columns.tolist())"
   ]
  },
  {
   "cell_type": "code",
   "execution_count": 96,
   "metadata": {},
   "outputs": [
    {
     "name": "stdout",
     "output_type": "stream",
     "text": [
      "NaNs in raw features: 1\n",
      "Infs in raw features: 0\n"
     ]
    }
   ],
   "source": [
    "print(\"NaNs in raw features:\", np.isnan(X).sum())\n",
    "print(\"Infs in raw features:\", np.isinf(X).sum())"
   ]
  },
  {
   "cell_type": "code",
   "execution_count": 110,
   "metadata": {},
   "outputs": [
    {
     "name": "stdout",
     "output_type": "stream",
     "text": [
      "before cleaning:\n",
      "NaNs: 1\n",
      "Infs: 0\n",
      "non-numeric values:\n",
      " int64      31\n",
      "float64     1\n",
      "dtype: int64\n"
     ]
    }
   ],
   "source": [
    "# extract numeric columns explicitly\n",
    "feature_cols = list(range(1, 33))\n",
    "X_df = df_songs[feature_cols]\n",
    "\n",
    "# NaNs/infs before converting\n",
    "print(\"before cleaning:\")\n",
    "print(\"NaNs:\", X_df.isna().sum().sum())\n",
    "print(\"Infs:\", np.isinf(X_df.to_numpy()).sum())\n",
    "print(\"non-numeric values:\\n\", X_df.dtypes.value_counts())"
   ]
  },
  {
   "cell_type": "code",
   "execution_count": 111,
   "metadata": {},
   "outputs": [
    {
     "name": "stdout",
     "output_type": "stream",
     "text": [
      "after cleaning:\n",
      "NaNs: 0\n",
      "Infs: 0\n"
     ]
    }
   ],
   "source": [
    "# -> all entries to numeric -> if non-convertible then becomes NaN\n",
    "X_clean_df = X_df.apply(pd.to_numeric, errors='coerce')\n",
    "\n",
    "# NaNs\n",
    "X_clean_df = X_clean_df.fillna(0)\n",
    "\n",
    "# check \n",
    "print(\"after cleaning:\")\n",
    "print(\"NaNs:\", X_clean_df.isna().sum().sum())\n",
    "print(\"Infs:\", np.isinf(X_clean_df.to_numpy()).sum())\n",
    "\n",
    "# Convert to numpy array (float64)\n",
    "X_clean = X_clean_df.to_numpy(dtype=np.float64)"
   ]
  },
  {
   "cell_type": "code",
   "execution_count": 114,
   "metadata": {},
   "outputs": [
    {
     "name": "stdout",
     "output_type": "stream",
     "text": [
      "k-means clustering = success\n"
     ]
    }
   ],
   "source": [
    "from sklearn.preprocessing import StandardScaler\n",
    "from sklearn.cluster import KMeans\n",
    "\n",
    "# Scale\n",
    "scaler = StandardScaler()\n",
    "X_scaled = scaler.fit_transform(X_clean)\n",
    "\n",
    "# KMeans clustering\n",
    "k = 8\n",
    "kmeans = KMeans(n_clusters=k, random_state=42, n_init=10)\n",
    "song_clusters = kmeans.fit_predict(X_scaled)\n",
    "\n",
    "print(\"k-means clustering = success\")"
   ]
  },
  {
   "cell_type": "code",
   "execution_count": 113,
   "metadata": {},
   "outputs": [
    {
     "name": "stdout",
     "output_type": "stream",
     "text": [
      "k-means clustering = success\n"
     ]
    }
   ],
   "source": [
    "from sklearn.cluster import KMeans\n",
    "from sklearn.preprocessing import StandardScaler\n",
    "import matplotlib.pyplot as plt\n",
    "import numpy as np\n",
    "import pandas as pd\n",
    "\n",
    "# 1 -> load the data (already done)\n",
    "# df_songs = pd.read_excel(songlist_path)\n",
    "# df_roster = pd.read_excel(roster_path, header=None)\n",
    "\n",
    "# 2 -> extract song features (columns 1-32)\n",
    "feature_cols = list(range(1, 33))\n",
    "X_df = df_songs[feature_cols].apply(pd.to_numeric, errors='coerce').fillna(0)\n",
    "X_clean = X_df.to_numpy(dtype=np.float64)\n",
    "#X = df_songs[feature_cols].values\n",
    "\n",
    "# 3 -> scale features\n",
    "scaler = StandardScaler()\n",
    "X_scaled = scaler.fit_transform(X_clean)\n",
    "\n",
    "# 4 -> k-means clustering (k=8)\n",
    "k = 8\n",
    "kmeans = KMeans(n_clusters=k, random_state=42, n_init=10)  # 10 is the default\n",
    "song_clusters = kmeans.fit_predict(X_scaled)\n",
    "print(\"k-means clustering = success\")"
   ]
  },
  {
   "cell_type": "code",
   "execution_count": 120,
   "metadata": {},
   "outputs": [
    {
     "name": "stdout",
     "output_type": "stream",
     "text": [
      "\n",
      "student distribution across music clusters:\n",
      "Cluster 0: 1 students\n",
      "Cluster 1: 9 students\n",
      "Cluster 2: 3 students\n",
      "Cluster 4: 1 students\n",
      "Cluster 5: 1 students\n",
      "Cluster 6: 6 students\n",
      "Cluster 7: 1 students\n"
     ]
    }
   ],
   "source": [
    "# mapping songs to students\n",
    "# initialize: student_songs[i] = list of song cluster indices for student i+1\n",
    "student_songs = {i+1: [] for i in range(32)}\n",
    "\n",
    "# for each song -> assign it to students\n",
    "for idx, row in df_songs.iterrows():\n",
    "    for col in feature_cols:\n",
    "        student_id = int(col)\n",
    "        if row[col] > 0:  # this song is associated with this student\n",
    "            student_songs[student_id].append(song_clusters[idx])\n",
    "\n",
    "# get each student's dominant cluster\n",
    "student_cluster_map = {}\n",
    "\n",
    "for student_id, clusters in student_songs.items():\n",
    "    if clusters:  # check if student has songs\n",
    "        dominant_cluster = max(set(clusters), key=clusters.count)\n",
    "    else:\n",
    "        dominant_cluster = None  # no songs assigned/ no dominant\n",
    "    student_cluster_map[student_id] = dominant_cluster\n",
    "\n",
    "    \n",
    "    \n",
    "from collections import Counter # distribution of students across clusters\n",
    "\n",
    "# exclude None (students with no songs)\n",
    "#cluster_distribution = Counter(c for c in student_cluster_map.values() if c is not None)\n",
    "\n",
    "print(\"\\nstudent distribution across music clusters:\")\n",
    "for cluster_id in sorted(cluster_distribution):\n",
    "    print(f\"Cluster {cluster_id}: {cluster_distribution[cluster_id]} students\")"
   ]
  },
  {
   "cell_type": "code",
   "execution_count": null,
   "metadata": {},
   "outputs": [],
   "source": []
  },
  {
   "cell_type": "code",
   "execution_count": 121,
   "metadata": {},
   "outputs": [
    {
     "name": "stdout",
     "output_type": "stream",
     "text": [
      "\n",
      "PragyaJ (Student #11) is in music cluster: None\n"
     ]
    }
   ],
   "source": [
    "my_cluster = student_cluster_map[11]\n",
    "print(f\"\\nPragyaJ (Student #11) is in music cluster: {my_cluster}\")"
   ]
  },
  {
   "cell_type": "code",
   "execution_count": 122,
   "metadata": {},
   "outputs": [
    {
     "name": "stdout",
     "output_type": "stream",
     "text": [
      "Students with no songs assigned: [3, 4, 7, 8, 11, 16, 18, 25, 27, 31]\n"
     ]
    }
   ],
   "source": [
    "no_song_students = [sid for sid, clusters in student_songs.items() if not clusters]\n",
    "print(\"Students with no songs assigned:\", no_song_students)"
   ]
  },
  {
   "cell_type": "code",
   "execution_count": null,
   "metadata": {},
   "outputs": [],
   "source": []
  },
  {
   "cell_type": "code",
   "execution_count": 126,
   "metadata": {},
   "outputs": [
    {
     "name": "stdout",
     "output_type": "stream",
     "text": [
      "Index(['Aviles,Francis Jake'], dtype='object')\n",
      "          Aviles,Francis Jake\n",
      "0         Bohlander,Ty Jerome\n",
      "1     Boykin,Dominique Isaiah\n",
      "2  Dacumos,Daniel Jose Santos\n",
      "3                    Dang,Duy\n",
      "4             Dominguez,Mario\n"
     ]
    }
   ],
   "source": [
    "print(df_roster.columns)\n",
    "print(df_roster.head())"
   ]
  },
  {
   "cell_type": "code",
   "execution_count": 127,
   "metadata": {},
   "outputs": [],
   "source": [
    "df_roster = pd.read_excel(roster_path, header=None)"
   ]
  },
  {
   "cell_type": "code",
   "execution_count": 128,
   "metadata": {},
   "outputs": [],
   "source": [
    "student_names = {i+1: name for i, name in enumerate(df_roster[0].tolist())}"
   ]
  },
  {
   "cell_type": "code",
   "execution_count": 129,
   "metadata": {},
   "outputs": [
    {
     "name": "stdout",
     "output_type": "stream",
     "text": [
      "\n",
      "Cluster No Cluster (10 students):\n",
      " - Boykin,Dominique Isaiah\n",
      " - Dacumos,Daniel Jose Santos\n",
      " - Godinez,Salvador\n",
      " - Grossman, Aditi\n",
      " - Jha,Pragya\n",
      " - Muratov,Muzaffarbek\n",
      " - Patel,Kartik Haribhai\n",
      " - Seck,Abdoukhadr\n",
      " - Singh,Darshveer\n",
      " - Zhu,Breanna\n",
      "\n",
      "Cluster 0 (1 students):\n",
      " - Wijaya,Hansley\n",
      "\n",
      "Cluster 1 (9 students):\n",
      " - Aviles,Francis Jake\n",
      " - Hsu,Meg\n",
      " - Hurtado,Joel\n",
      " - Khatri,Kiran\n",
      " - Mejia,Wilmaire\n",
      " - Nguyen,Vohoang Phat\n",
      " - Sandoval,Angel Trinidad\n",
      " - Serna,Nicolas Sean\n",
      " - Wei,Yuhang\n",
      "\n",
      "Cluster 2 (3 students):\n",
      " - Perez,Emily Nicole\n",
      " - Sanadi,Anurag\n",
      " - Sanchez,Victor Oswaldo\n",
      "\n",
      "Cluster 4 (1 students):\n",
      " - Pineda,Andres David\n",
      "\n",
      "Cluster 5 (1 students):\n",
      " - Bohlander,Ty Jerome\n",
      "\n",
      "Cluster 6 (6 students):\n",
      " - Dang,Duy\n",
      " - Dominguez,Mario\n",
      " - Luong,Austin\n",
      " - Rivera-Soto,Diego Fernando\n",
      " - Thompson,Michael John\n",
      " - Student 32\n",
      "\n",
      "Cluster 7 (1 students):\n",
      " - Le,Brandon\n"
     ]
    }
   ],
   "source": [
    "# group students by cluster\n",
    "cluster_to_students = defaultdict(list)\n",
    "\n",
    "for student_id, cluster in student_cluster_map.items():\n",
    "    if cluster is not None:\n",
    "        cluster_to_students[cluster].append(student_names.get(student_id, f\"Student {student_id}\"))\n",
    "    else:\n",
    "        cluster_to_students['No Cluster'].append(student_names.get(student_id, f\"Student {student_id}\"))\n",
    "\n",
    "# print those\n",
    "for cluster_id in sorted(cluster_to_students.keys(), key=lambda x: (str(x) != 'No Cluster', x)):\n",
    "    students = cluster_to_students[cluster_id]\n",
    "    print(f\"\\nCluster {cluster_id} ({len(students)} students):\")\n",
    "    for student in students:\n",
    "        print(f\" - {student}\")"
   ]
  },
  {
   "cell_type": "code",
   "execution_count": null,
   "metadata": {},
   "outputs": [],
   "source": [
    "# visualizing the clusters/trends"
   ]
  },
  {
   "cell_type": "code",
   "execution_count": 130,
   "metadata": {},
   "outputs": [
    {
     "data": {
      "image/png": "[encoded data removed]",
      "text/plain": [
       "<Figure size 432x288 with 1 Axes>"
      ]
     },
     "metadata": {
      "needs_background": "light"
     },
     "output_type": "display_data"
    }
   ],
   "source": [
    "import matplotlib.pyplot as plt\n",
    "\n",
    "# cluster_distribution is counter from ^^\n",
    "clusters = list(cluster_distribution.keys())\n",
    "counts = [cluster_distribution[c] for c in clusters]\n",
    "\n",
    "plt.bar(clusters, counts, color='skyblue')\n",
    "plt.xlabel('Cluster ID')\n",
    "plt.ylabel('Number of Students')\n",
    "plt.title('Number of Students per Music Cluster')\n",
    "plt.xticks(clusters)\n",
    "plt.show()"
   ]
  },
  {
   "cell_type": "code",
   "execution_count": 134,
   "metadata": {},
   "outputs": [
    {
     "data": {
      "image/png": "[encoded data removed]",
      "text/plain": [
       "<Figure size 720x576 with 1 Axes>"
      ]
     },
     "metadata": {
      "needs_background": "light"
     },
     "output_type": "display_data"
    }
   ],
   "source": [
    "import numpy as np\n",
    "import matplotlib.pyplot as plt\n",
    "from sklearn.manifold import MDS\n",
    "\n",
    "# Assume you have:\n",
    "# k = number of clusters\n",
    "# kmeans.cluster_centers_ (shape: k x features)\n",
    "# student_cluster_map: dict {student_id: dominant_cluster}\n",
    "\n",
    "# Step 1: Get cluster centroids\n",
    "centroids = kmeans.cluster_centers_\n",
    "\n",
    "# Step 2 & 3: Use MDS to get 2D positions of clusters based on centroid distances\n",
    "mds = MDS(n_components=2, dissimilarity='euclidean', random_state=42)\n",
    "cluster_positions = mds.fit_transform(centroids)\n",
    "\n",
    "# Step 4: Plot clusters as circles\n",
    "plt.figure(figsize=(10, 8))\n",
    "plt.scatter(cluster_positions[:, 0], cluster_positions[:, 1], s=3000, alpha=0.3, edgecolors='k', label='Clusters')\n",
    "\n",
    "# Annotate cluster numbers inside circles\n",
    "for i, (x, y) in enumerate(cluster_positions):\n",
    "    plt.text(x, y, f\"Cluster {i}\", ha='center', va='center', fontsize=14, fontweight='bold')\n",
    "\n",
    "# Step 5: Plot student affinities near their cluster\n",
    "# Group students by cluster\n",
    "from collections import defaultdict\n",
    "students_by_cluster = defaultdict(list)\n",
    "for student_id, cluster_id in student_cluster_map.items():\n",
    "    if cluster_id is not None:\n",
    "        students_by_cluster[cluster_id].append(student_id)\n",
    "\n",
    "# Plot small dots or text for students around cluster circle\n",
    "for cluster_id, students in students_by_cluster.items():\n",
    "    x, y = cluster_positions[cluster_id]\n",
    "    # Scatter students in a circle around the cluster centroid\n",
    "    angle_step = 2 * np.pi / len(students)\n",
    "    radius = 0.4  # distance from cluster center\n",
    "    for i, student in enumerate(students):\n",
    "        sx = x + radius * np.cos(i * angle_step)\n",
    "        sy = y + radius * np.sin(i * angle_step)\n",
    "        plt.scatter(sx, sy, s=100, alpha=0.8)\n",
    "        # Optionally, label with student number or initials\n",
    "        plt.text(sx, sy, str(student), fontsize=8, ha='center', va='center')\n",
    "\n",
    "plt.title(\"Clusters and Student Affinities\")\n",
    "plt.axis('off')\n",
    "plt.show()"
   ]
  },
  {
   "cell_type": "code",
   "execution_count": null,
   "metadata": {},
   "outputs": [],
   "source": []
  },
  {
   "cell_type": "code",
   "execution_count": null,
   "metadata": {},
   "outputs": [],
   "source": []
  }
 ],
 "metadata": {
  "kernelspec": {
   "display_name": "Python 3",
   "language": "python",
   "name": "python3"
  },
  "language_info": {
   "codemirror_mode": {
    "name": "ipython",
    "version": 3
   },
   "file_extension": ".py",
   "mimetype": "text/x-python",
   "name": "python",
   "nbconvert_exporter": "python",
   "pygments_lexer": "ipython3",
   "version": "3.7.6"
  }
 },
 "nbformat": 4,
 "nbformat_minor": 4
}
